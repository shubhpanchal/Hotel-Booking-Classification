{
 "cells": [
  {
   "cell_type": "code",
   "execution_count": 1,
   "id": "3751b195",
   "metadata": {},
   "outputs": [],
   "source": [
    "# Importing Required Libraries\n",
    "import pandas as pd\n",
    "import numpy as np\n",
    "from numpy import math\n",
    "import matplotlib.pyplot as plt\n",
    "%matplotlib inline\n",
    "import seaborn as sns\n",
    "\n",
    "import warnings\n",
    "warnings.filterwarnings('ignore')"
   ]
  },
  {
   "cell_type": "code",
   "execution_count": 2,
   "id": "67902a9e",
   "metadata": {},
   "outputs": [
    {
     "data": {
      "text/html": [
       "<div>\n",
       "<style scoped>\n",
       "    .dataframe tbody tr th:only-of-type {\n",
       "        vertical-align: middle;\n",
       "    }\n",
       "\n",
       "    .dataframe tbody tr th {\n",
       "        vertical-align: top;\n",
       "    }\n",
       "\n",
       "    .dataframe thead th {\n",
       "        text-align: right;\n",
       "    }\n",
       "</style>\n",
       "<table border=\"1\" class=\"dataframe\">\n",
       "  <thead>\n",
       "    <tr style=\"text-align: right;\">\n",
       "      <th></th>\n",
       "      <th>hotel</th>\n",
       "      <th>is_canceled</th>\n",
       "      <th>lead_time</th>\n",
       "      <th>arrival_date_year</th>\n",
       "      <th>arrival_date_month</th>\n",
       "      <th>arrival_date_week_number</th>\n",
       "      <th>arrival_date_day_of_month</th>\n",
       "      <th>stays_in_weekend_nights</th>\n",
       "      <th>stays_in_week_nights</th>\n",
       "      <th>adults</th>\n",
       "      <th>...</th>\n",
       "      <th>deposit_type</th>\n",
       "      <th>agent</th>\n",
       "      <th>company</th>\n",
       "      <th>days_in_waiting_list</th>\n",
       "      <th>customer_type</th>\n",
       "      <th>adr</th>\n",
       "      <th>required_car_parking_spaces</th>\n",
       "      <th>total_of_special_requests</th>\n",
       "      <th>reservation_status</th>\n",
       "      <th>reservation_status_date</th>\n",
       "    </tr>\n",
       "  </thead>\n",
       "  <tbody>\n",
       "    <tr>\n",
       "      <th>0</th>\n",
       "      <td>Resort Hotel</td>\n",
       "      <td>0</td>\n",
       "      <td>342</td>\n",
       "      <td>2015</td>\n",
       "      <td>July</td>\n",
       "      <td>27</td>\n",
       "      <td>1</td>\n",
       "      <td>0</td>\n",
       "      <td>0</td>\n",
       "      <td>2</td>\n",
       "      <td>...</td>\n",
       "      <td>No Deposit</td>\n",
       "      <td>NaN</td>\n",
       "      <td>NaN</td>\n",
       "      <td>0</td>\n",
       "      <td>Transient</td>\n",
       "      <td>0.0</td>\n",
       "      <td>0</td>\n",
       "      <td>0</td>\n",
       "      <td>Check-Out</td>\n",
       "      <td>2015-07-01</td>\n",
       "    </tr>\n",
       "    <tr>\n",
       "      <th>1</th>\n",
       "      <td>Resort Hotel</td>\n",
       "      <td>0</td>\n",
       "      <td>737</td>\n",
       "      <td>2015</td>\n",
       "      <td>July</td>\n",
       "      <td>27</td>\n",
       "      <td>1</td>\n",
       "      <td>0</td>\n",
       "      <td>0</td>\n",
       "      <td>2</td>\n",
       "      <td>...</td>\n",
       "      <td>No Deposit</td>\n",
       "      <td>NaN</td>\n",
       "      <td>NaN</td>\n",
       "      <td>0</td>\n",
       "      <td>Transient</td>\n",
       "      <td>0.0</td>\n",
       "      <td>0</td>\n",
       "      <td>0</td>\n",
       "      <td>Check-Out</td>\n",
       "      <td>2015-07-01</td>\n",
       "    </tr>\n",
       "    <tr>\n",
       "      <th>2</th>\n",
       "      <td>Resort Hotel</td>\n",
       "      <td>0</td>\n",
       "      <td>7</td>\n",
       "      <td>2015</td>\n",
       "      <td>July</td>\n",
       "      <td>27</td>\n",
       "      <td>1</td>\n",
       "      <td>0</td>\n",
       "      <td>1</td>\n",
       "      <td>1</td>\n",
       "      <td>...</td>\n",
       "      <td>No Deposit</td>\n",
       "      <td>NaN</td>\n",
       "      <td>NaN</td>\n",
       "      <td>0</td>\n",
       "      <td>Transient</td>\n",
       "      <td>75.0</td>\n",
       "      <td>0</td>\n",
       "      <td>0</td>\n",
       "      <td>Check-Out</td>\n",
       "      <td>2015-07-02</td>\n",
       "    </tr>\n",
       "    <tr>\n",
       "      <th>3</th>\n",
       "      <td>Resort Hotel</td>\n",
       "      <td>0</td>\n",
       "      <td>13</td>\n",
       "      <td>2015</td>\n",
       "      <td>July</td>\n",
       "      <td>27</td>\n",
       "      <td>1</td>\n",
       "      <td>0</td>\n",
       "      <td>1</td>\n",
       "      <td>1</td>\n",
       "      <td>...</td>\n",
       "      <td>No Deposit</td>\n",
       "      <td>304.0</td>\n",
       "      <td>NaN</td>\n",
       "      <td>0</td>\n",
       "      <td>Transient</td>\n",
       "      <td>75.0</td>\n",
       "      <td>0</td>\n",
       "      <td>0</td>\n",
       "      <td>Check-Out</td>\n",
       "      <td>2015-07-02</td>\n",
       "    </tr>\n",
       "    <tr>\n",
       "      <th>4</th>\n",
       "      <td>Resort Hotel</td>\n",
       "      <td>0</td>\n",
       "      <td>14</td>\n",
       "      <td>2015</td>\n",
       "      <td>July</td>\n",
       "      <td>27</td>\n",
       "      <td>1</td>\n",
       "      <td>0</td>\n",
       "      <td>2</td>\n",
       "      <td>2</td>\n",
       "      <td>...</td>\n",
       "      <td>No Deposit</td>\n",
       "      <td>240.0</td>\n",
       "      <td>NaN</td>\n",
       "      <td>0</td>\n",
       "      <td>Transient</td>\n",
       "      <td>98.0</td>\n",
       "      <td>0</td>\n",
       "      <td>1</td>\n",
       "      <td>Check-Out</td>\n",
       "      <td>2015-07-03</td>\n",
       "    </tr>\n",
       "  </tbody>\n",
       "</table>\n",
       "<p>5 rows × 32 columns</p>\n",
       "</div>"
      ],
      "text/plain": [
       "          hotel  is_canceled  lead_time  arrival_date_year arrival_date_month  \\\n",
       "0  Resort Hotel            0        342               2015               July   \n",
       "1  Resort Hotel            0        737               2015               July   \n",
       "2  Resort Hotel            0          7               2015               July   \n",
       "3  Resort Hotel            0         13               2015               July   \n",
       "4  Resort Hotel            0         14               2015               July   \n",
       "\n",
       "   arrival_date_week_number  arrival_date_day_of_month  \\\n",
       "0                        27                          1   \n",
       "1                        27                          1   \n",
       "2                        27                          1   \n",
       "3                        27                          1   \n",
       "4                        27                          1   \n",
       "\n",
       "   stays_in_weekend_nights  stays_in_week_nights  adults  ...  deposit_type  \\\n",
       "0                        0                     0       2  ...    No Deposit   \n",
       "1                        0                     0       2  ...    No Deposit   \n",
       "2                        0                     1       1  ...    No Deposit   \n",
       "3                        0                     1       1  ...    No Deposit   \n",
       "4                        0                     2       2  ...    No Deposit   \n",
       "\n",
       "   agent company days_in_waiting_list customer_type   adr  \\\n",
       "0    NaN     NaN                    0     Transient   0.0   \n",
       "1    NaN     NaN                    0     Transient   0.0   \n",
       "2    NaN     NaN                    0     Transient  75.0   \n",
       "3  304.0     NaN                    0     Transient  75.0   \n",
       "4  240.0     NaN                    0     Transient  98.0   \n",
       "\n",
       "   required_car_parking_spaces  total_of_special_requests  reservation_status  \\\n",
       "0                            0                          0           Check-Out   \n",
       "1                            0                          0           Check-Out   \n",
       "2                            0                          0           Check-Out   \n",
       "3                            0                          0           Check-Out   \n",
       "4                            0                          1           Check-Out   \n",
       "\n",
       "  reservation_status_date  \n",
       "0              2015-07-01  \n",
       "1              2015-07-01  \n",
       "2              2015-07-02  \n",
       "3              2015-07-02  \n",
       "4              2015-07-03  \n",
       "\n",
       "[5 rows x 32 columns]"
      ]
     },
     "execution_count": 2,
     "metadata": {},
     "output_type": "execute_result"
    }
   ],
   "source": [
    "# Importing the dataset\n",
    "df= pd.read_csv(\"Copy of Hotel Bookings.csv\")\n",
    "df.head()"
   ]
  },
  {
   "cell_type": "code",
   "execution_count": 3,
   "id": "2dad510d",
   "metadata": {},
   "outputs": [
    {
     "name": "stdout",
     "output_type": "stream",
     "text": [
      "<class 'pandas.core.frame.DataFrame'>\n",
      "RangeIndex: 119390 entries, 0 to 119389\n",
      "Data columns (total 32 columns):\n",
      " #   Column                          Non-Null Count   Dtype  \n",
      "---  ------                          --------------   -----  \n",
      " 0   hotel                           119390 non-null  object \n",
      " 1   is_canceled                     119390 non-null  int64  \n",
      " 2   lead_time                       119390 non-null  int64  \n",
      " 3   arrival_date_year               119390 non-null  int64  \n",
      " 4   arrival_date_month              119390 non-null  object \n",
      " 5   arrival_date_week_number        119390 non-null  int64  \n",
      " 6   arrival_date_day_of_month       119390 non-null  int64  \n",
      " 7   stays_in_weekend_nights         119390 non-null  int64  \n",
      " 8   stays_in_week_nights            119390 non-null  int64  \n",
      " 9   adults                          119390 non-null  int64  \n",
      " 10  children                        119386 non-null  float64\n",
      " 11  babies                          119390 non-null  int64  \n",
      " 12  meal                            119390 non-null  object \n",
      " 13  country                         118902 non-null  object \n",
      " 14  market_segment                  119390 non-null  object \n",
      " 15  distribution_channel            119390 non-null  object \n",
      " 16  is_repeated_guest               119390 non-null  int64  \n",
      " 17  previous_cancellations          119390 non-null  int64  \n",
      " 18  previous_bookings_not_canceled  119390 non-null  int64  \n",
      " 19  reserved_room_type              119390 non-null  object \n",
      " 20  assigned_room_type              119390 non-null  object \n",
      " 21  booking_changes                 119390 non-null  int64  \n",
      " 22  deposit_type                    119390 non-null  object \n",
      " 23  agent                           103050 non-null  float64\n",
      " 24  company                         6797 non-null    float64\n",
      " 25  days_in_waiting_list            119390 non-null  int64  \n",
      " 26  customer_type                   119390 non-null  object \n",
      " 27  adr                             119390 non-null  float64\n",
      " 28  required_car_parking_spaces     119390 non-null  int64  \n",
      " 29  total_of_special_requests       119390 non-null  int64  \n",
      " 30  reservation_status              119390 non-null  object \n",
      " 31  reservation_status_date         119390 non-null  object \n",
      "dtypes: float64(4), int64(16), object(12)\n",
      "memory usage: 29.1+ MB\n"
     ]
    }
   ],
   "source": [
    "# Checking the info of the data columns and data types\n",
    "df.info()"
   ]
  },
  {
   "cell_type": "code",
   "execution_count": 4,
   "id": "9fa0fdef",
   "metadata": {},
   "outputs": [
    {
     "data": {
      "text/plain": [
       "0    75166\n",
       "1    44224\n",
       "Name: is_canceled, dtype: int64"
      ]
     },
     "execution_count": 4,
     "metadata": {},
     "output_type": "execute_result"
    }
   ],
   "source": [
    "# Checking the cancellations and non cancellations in the dataset\n",
    "df['is_canceled'].value_counts()"
   ]
  },
  {
   "cell_type": "code",
   "execution_count": 5,
   "id": "84f9323a",
   "metadata": {},
   "outputs": [],
   "source": [
    "# Defining our target variable\n",
    "df['target'] = np.where(df['is_canceled'].isin([1]),1,0)"
   ]
  },
  {
   "cell_type": "code",
   "execution_count": 6,
   "id": "bdf9beec",
   "metadata": {},
   "outputs": [
    {
     "data": {
      "text/plain": [
       "0.37041628277075134"
      ]
     },
     "execution_count": 6,
     "metadata": {},
     "output_type": "execute_result"
    }
   ],
   "source": [
    "# Checking the probability of cancellations\n",
    "# As the dataset has binary outcomes the probability can be defined by mean of the target variable\n",
    "df['target'].mean()\n",
    "# we see that there is 37% cancellations"
   ]
  },
  {
   "cell_type": "code",
   "execution_count": 7,
   "id": "87b0538f",
   "metadata": {},
   "outputs": [
    {
     "data": {
      "image/png": "[encoded data removed]",
      "text/plain": [
       "<Figure size 432x288 with 1 Axes>"
      ]
     },
     "metadata": {
      "needs_background": "light"
     },
     "output_type": "display_data"
    }
   ],
   "source": [
    "# plotting then cancellation count hotelwise\n",
    "sns.countplot(x='hotel', data = df)\n",
    "plt.show()"
   ]
  },
  {
   "cell_type": "code",
   "execution_count": 8,
   "id": "e8846dc0",
   "metadata": {},
   "outputs": [
    {
     "data": {
      "text/plain": [
       "<AxesSubplot:xlabel='target', ylabel='count'>"
      ]
     },
     "execution_count": 8,
     "metadata": {},
     "output_type": "execute_result"
    },
    {
     "data": {
      "image/png": "[encoded data removed]",
      "text/plain": [
       "<Figure size 432x288 with 1 Axes>"
      ]
     },
     "metadata": {
      "needs_background": "light"
     },
     "output_type": "display_data"
    }
   ],
   "source": [
    "# Plotting the cancellations and non cancellations in entire dataset\n",
    "sns.countplot(x='target', data = df)"
   ]
  },
  {
   "cell_type": "code",
   "execution_count": 9,
   "id": "67f8b0bf",
   "metadata": {},
   "outputs": [
    {
     "data": {
      "text/plain": [
       "company     112593\n",
       "agent        16340\n",
       "country        488\n",
       "children         4\n",
       "hotel            0\n",
       "dtype: int64"
      ]
     },
     "execution_count": 9,
     "metadata": {},
     "output_type": "execute_result"
    }
   ],
   "source": [
    "# Checking for null values\n",
    "df.isnull().sum().sort_values(ascending = False)[:5]"
   ]
  },
  {
   "cell_type": "code",
   "execution_count": 10,
   "id": "ea0d284b",
   "metadata": {},
   "outputs": [
    {
     "data": {
      "text/plain": [
       "No Deposit    104641\n",
       "Deposits       14749\n",
       "Name: deposit_type, dtype: int64"
      ]
     },
     "execution_count": 10,
     "metadata": {},
     "output_type": "execute_result"
    }
   ],
   "source": [
    "# Treatment of null values\n",
    "nan_replacements={'children':0,'country':'unknown','agent':0, 'company':0}\n",
    "df.fillna(nan_replacements,inplace=True)\n",
    "\n",
    "df['meal'].replace('Undefined','SC', inplace=True)\n",
    "df['deposit_type'].replace('Refundable', 'Deposits', inplace=True)\n",
    "df['deposit_type'].replace('Non Refund', 'Deposits', inplace=True)\n",
    "df['deposit_type'].value_counts()"
   ]
  },
  {
   "cell_type": "code",
   "execution_count": 11,
   "id": "a1403cce",
   "metadata": {},
   "outputs": [
    {
     "data": {
      "text/plain": [
       "hotel                        0\n",
       "previous_cancellations       0\n",
       "reservation_status_date      0\n",
       "reservation_status           0\n",
       "total_of_special_requests    0\n",
       "dtype: int64"
      ]
     },
     "execution_count": 11,
     "metadata": {},
     "output_type": "execute_result"
    }
   ],
   "source": [
    "# Confirming the treatment of null values\n",
    "df.isnull().sum().sort_values(ascending=False)[:5]"
   ]
  },
  {
   "cell_type": "code",
   "execution_count": 12,
   "id": "7416b48e",
   "metadata": {},
   "outputs": [
    {
     "data": {
      "text/plain": [
       "Index(['hotel', 'arrival_date_month', 'meal', 'country', 'market_segment',\n",
       "       'distribution_channel', 'reserved_room_type', 'assigned_room_type',\n",
       "       'deposit_type', 'customer_type', 'reservation_status',\n",
       "       'reservation_status_date'],\n",
       "      dtype='object')"
      ]
     },
     "execution_count": 12,
     "metadata": {},
     "output_type": "execute_result"
    }
   ],
   "source": [
    "# defining the categorical variables\n",
    "cat=df.describe(include = ['object', 'category']).columns\n",
    "cat"
   ]
  },
  {
   "cell_type": "code",
   "execution_count": 13,
   "id": "dc2fb9ef",
   "metadata": {},
   "outputs": [
    {
     "data": {
      "image/png": "[encoded data removed]",
      "text/plain": [
       "<Figure size 720x432 with 1 Axes>"
      ]
     },
     "metadata": {
      "needs_background": "light"
     },
     "output_type": "display_data"
    },
    {
     "name": "stdout",
     "output_type": "stream",
     "text": [
      "The hotelwise cancellation ratios are as follows:\n",
      "hotel\n",
      "City Hotel      0.417270\n",
      "Resort Hotel    0.277634\n",
      "Name: target, dtype: float64\n",
      "__________________________________________________________________________________________\n"
     ]
    },
    {
     "data": {
      "image/png": "[encoded data removed]",
      "text/plain": [
       "<Figure size 720x432 with 1 Axes>"
      ]
     },
     "metadata": {
      "needs_background": "light"
     },
     "output_type": "display_data"
    },
    {
     "name": "stdout",
     "output_type": "stream",
     "text": [
      "The arrival_date_monthwise cancellation ratios are as follows:\n",
      "arrival_date_month\n",
      "April        0.407972\n",
      "August       0.377531\n",
      "December     0.349705\n",
      "February     0.334160\n",
      "January      0.304773\n",
      "July         0.374536\n",
      "June         0.414572\n",
      "March        0.321523\n",
      "May          0.396658\n",
      "November     0.312334\n",
      "October      0.380466\n",
      "September    0.391702\n",
      "Name: target, dtype: float64\n",
      "__________________________________________________________________________________________\n"
     ]
    },
    {
     "data": {
      "image/png": "[encoded data removed]",
      "text/plain": [
       "<Figure size 720x432 with 1 Axes>"
      ]
     },
     "metadata": {
      "needs_background": "light"
     },
     "output_type": "display_data"
    },
    {
     "name": "stdout",
     "output_type": "stream",
     "text": [
      "The mealwise cancellation ratios are as follows:\n",
      "meal\n",
      "BB    0.373849\n",
      "FB    0.598997\n",
      "HB    0.344603\n",
      "SC    0.359760\n",
      "Name: target, dtype: float64\n",
      "__________________________________________________________________________________________\n"
     ]
    },
    {
     "data": {
      "image/png": "[encoded data removed]",
      "text/plain": [
       "<Figure size 720x432 with 1 Axes>"
      ]
     },
     "metadata": {
      "needs_background": "light"
     },
     "output_type": "display_data"
    },
    {
     "name": "stdout",
     "output_type": "stream",
     "text": [
      "The market_segmentwise cancellation ratios are as follows:\n",
      "market_segment\n",
      "Aviation         0.219409\n",
      "Complementary    0.130552\n",
      "Corporate        0.187347\n",
      "Direct           0.153419\n",
      "Groups           0.610620\n",
      "Offline TA/TO    0.343160\n",
      "Online TA        0.367211\n",
      "Undefined        1.000000\n",
      "Name: target, dtype: float64\n",
      "__________________________________________________________________________________________\n"
     ]
    },
    {
     "data": {
      "image/png": "[encoded data removed]",
      "text/plain": [
       "<Figure size 720x432 with 1 Axes>"
      ]
     },
     "metadata": {
      "needs_background": "light"
     },
     "output_type": "display_data"
    },
    {
     "name": "stdout",
     "output_type": "stream",
     "text": [
      "The distribution_channelwise cancellation ratios are as follows:\n",
      "distribution_channel\n",
      "Corporate    0.220758\n",
      "Direct       0.174599\n",
      "GDS          0.191710\n",
      "TA/TO        0.410259\n",
      "Undefined    0.800000\n",
      "Name: target, dtype: float64\n",
      "__________________________________________________________________________________________\n"
     ]
    },
    {
     "data": {
      "image/png": "[encoded data removed]",
      "text/plain": [
       "<Figure size 720x432 with 1 Axes>"
      ]
     },
     "metadata": {
      "needs_background": "light"
     },
     "output_type": "display_data"
    },
    {
     "name": "stdout",
     "output_type": "stream",
     "text": [
      "The reserved_room_typewise cancellation ratios are as follows:\n",
      "reserved_room_type\n",
      "A    0.391074\n",
      "B    0.329159\n",
      "C    0.330472\n",
      "D    0.317796\n",
      "E    0.292884\n",
      "F    0.303763\n",
      "G    0.364374\n",
      "H    0.407654\n",
      "L    0.333333\n",
      "P    1.000000\n",
      "Name: target, dtype: float64\n",
      "__________________________________________________________________________________________\n"
     ]
    },
    {
     "data": {
      "image/png": "[encoded data removed]",
      "text/plain": [
       "<Figure size 720x432 with 1 Axes>"
      ]
     },
     "metadata": {
      "needs_background": "light"
     },
     "output_type": "display_data"
    },
    {
     "name": "stdout",
     "output_type": "stream",
     "text": [
      "The assigned_room_typewise cancellation ratios are as follows:\n",
      "assigned_room_type\n",
      "A    0.444925\n",
      "B    0.236708\n",
      "C    0.187789\n",
      "D    0.251244\n",
      "E    0.252114\n",
      "F    0.247134\n",
      "G    0.305523\n",
      "H    0.352528\n",
      "I    0.013774\n",
      "K    0.043011\n",
      "L    1.000000\n",
      "P    1.000000\n",
      "Name: target, dtype: float64\n",
      "__________________________________________________________________________________________\n"
     ]
    },
    {
     "data": {
      "image/png": "[encoded data removed]",
      "text/plain": [
       "<Figure size 720x432 with 1 Axes>"
      ]
     },
     "metadata": {
      "needs_background": "light"
     },
     "output_type": "display_data"
    },
    {
     "name": "stdout",
     "output_type": "stream",
     "text": [
      "The deposit_typewise cancellation ratios are as follows:\n",
      "deposit_type\n",
      "Deposits      0.985152\n",
      "No Deposit    0.283770\n",
      "Name: target, dtype: float64\n",
      "__________________________________________________________________________________________\n"
     ]
    },
    {
     "data": {
      "image/png": "[encoded data removed]",
      "text/plain": [
       "<Figure size 720x432 with 1 Axes>"
      ]
     },
     "metadata": {
      "needs_background": "light"
     },
     "output_type": "display_data"
    },
    {
     "name": "stdout",
     "output_type": "stream",
     "text": [
      "The customer_typewise cancellation ratios are as follows:\n",
      "customer_type\n",
      "Contract           0.309617\n",
      "Group              0.102253\n",
      "Transient          0.407463\n",
      "Transient-Party    0.254299\n",
      "Name: target, dtype: float64\n",
      "__________________________________________________________________________________________\n"
     ]
    },
    {
     "data": {
      "image/png": "[encoded data removed]",
      "text/plain": [
       "<Figure size 720x432 with 1 Axes>"
      ]
     },
     "metadata": {
      "needs_background": "light"
     },
     "output_type": "display_data"
    },
    {
     "name": "stdout",
     "output_type": "stream",
     "text": [
      "The reservation_statuswise cancellation ratios are as follows:\n",
      "reservation_status\n",
      "Canceled     1\n",
      "Check-Out    0\n",
      "No-Show      1\n",
      "Name: target, dtype: int32\n",
      "__________________________________________________________________________________________\n"
     ]
    }
   ],
   "source": [
    "# Plotting the cancellation probability with respect to the columns\n",
    "from numpy import mean\n",
    "order=['January','February','March','April','May','June','July','August','September','October','November','December']\n",
    "for col in cat:\n",
    "    if df[col].nunique()<20:\n",
    "        plt.figure(figsize=(10,6))\n",
    "        sns.barplot(x=col, y ='target', data = df, estimator=mean)\n",
    "        plt.xticks(rotation=45)\n",
    "        plt.show()\n",
    "        print('The '+col+'wise cancellation ratios are as follows:')\n",
    "        print(df.groupby(col)['target'].mean())\n",
    "        print('_'*90)\n",
    "    else:\n",
    "        pass"
   ]
  },
  {
   "cell_type": "code",
   "execution_count": 14,
   "id": "9c588893",
   "metadata": {},
   "outputs": [
    {
     "data": {
      "text/plain": [
       "<function matplotlib.pyplot.show(close=None, block=None)>"
      ]
     },
     "execution_count": 14,
     "metadata": {},
     "output_type": "execute_result"
    },
    {
     "data": {
      "image/png": "[encoded data removed]",
      "text/plain": [
       "<Figure size 432x288 with 1 Axes>"
      ]
     },
     "metadata": {
      "needs_background": "light"
     },
     "output_type": "display_data"
    }
   ],
   "source": [
    "# Checking the probability of cancellations in repeated guests\n",
    "sns.barplot(x='is_repeated_guest', y = 'target', data=df, estimator=mean)\n",
    "plt.show"
   ]
  },
  {
   "cell_type": "code",
   "execution_count": 15,
   "id": "77373ac7",
   "metadata": {},
   "outputs": [
    {
     "data": {
      "text/plain": [
       "market_segment\n",
       "Aviation           237\n",
       "Complementary      743\n",
       "Corporate         5295\n",
       "Direct           12606\n",
       "Groups           19813\n",
       "Offline TA/TO    24219\n",
       "Online TA        56477\n",
       "Name: target, dtype: int64"
      ]
     },
     "execution_count": 15,
     "metadata": {},
     "output_type": "execute_result"
    }
   ],
   "source": [
    "# Replacing the Undefined market segment as Groups market segment \n",
    "df['market_segment'].replace('Undefined','Groups', inplace=True)\n",
    "df.groupby('market_segment')['target'].count()"
   ]
  },
  {
   "cell_type": "code",
   "execution_count": 16,
   "id": "889846a8",
   "metadata": {},
   "outputs": [
    {
     "data": {
      "text/plain": [
       "<AxesSubplot:xlabel='stays_in_weekend_nights', ylabel='target'>"
      ]
     },
     "execution_count": 16,
     "metadata": {},
     "output_type": "execute_result"
    },
    {
     "data": {
      "image/png": "[encoded data removed]",
      "text/plain": [
       "<Figure size 432x288 with 1 Axes>"
      ]
     },
     "metadata": {
      "needs_background": "light"
     },
     "output_type": "display_data"
    }
   ],
   "source": [
    "# Plotting the cancellations probability with respect to stays_in_weekend_nights\n",
    "sns.barplot(x='stays_in_weekend_nights', y = 'target', data=df, estimator=mean)"
   ]
  },
  {
   "cell_type": "code",
   "execution_count": 17,
   "id": "b2258190",
   "metadata": {},
   "outputs": [
    {
     "data": {
      "text/plain": [
       "stays_in_weekend_nights\n",
       "0     0.375034\n",
       "1     0.359401\n",
       "2     0.374835\n",
       "3     0.352661\n",
       "4     0.322372\n",
       "5     0.544304\n",
       "6     0.568627\n",
       "7     0.736842\n",
       "8     0.566667\n",
       "9     0.636364\n",
       "10    0.285714\n",
       "12    0.200000\n",
       "13    0.000000\n",
       "14    0.000000\n",
       "16    0.333333\n",
       "18    0.000000\n",
       "19    0.000000\n",
       "Name: target, dtype: float64"
      ]
     },
     "execution_count": 17,
     "metadata": {},
     "output_type": "execute_result"
    }
   ],
   "source": [
    "# Checking the cancellation probabilities with respect to stays_in_weekend_nights\n",
    "df.groupby('stays_in_weekend_nights')['target'].mean()"
   ]
  },
  {
   "cell_type": "code",
   "execution_count": 18,
   "id": "252989bf",
   "metadata": {},
   "outputs": [
    {
     "data": {
      "text/plain": [
       "<AxesSubplot:xlabel='stays_in_week_nights', ylabel='target'>"
      ]
     },
     "execution_count": 18,
     "metadata": {},
     "output_type": "execute_result"
    },
    {
     "data": {
      "image/png": "[encoded data removed]",
      "text/plain": [
       "<Figure size 432x288 with 1 Axes>"
      ]
     },
     "metadata": {
      "needs_background": "light"
     },
     "output_type": "display_data"
    }
   ],
   "source": [
    "# Plotting the cancellations probability with respect to stays_in_week_nights\n",
    "sns.barplot(x='stays_in_week_nights', y ='target', data=df, estimator=mean)"
   ]
  },
  {
   "cell_type": "code",
   "execution_count": 19,
   "id": "ee05f7b5",
   "metadata": {},
   "outputs": [
    {
     "name": "stdout",
     "output_type": "stream",
     "text": [
      "stays_in_week_nights_rank\n",
      "1    0.328366\n",
      "2    0.412152\n",
      "3    0.370731\n",
      "Name: target, dtype: float64\n"
     ]
    },
    {
     "data": {
      "image/png": "[encoded data removed]",
      "text/plain": [
       "<Figure size 432x288 with 1 Axes>"
      ]
     },
     "metadata": {
      "needs_background": "light"
     },
     "output_type": "display_data"
    }
   ],
   "source": [
    "# Dividing the stays_in_week_nights into 3 distict classes using pd.qcut and plotting the cancellation probabilities of classes.\n",
    "df['stays_in_week_nights_rank'] = pd.qcut(df['stays_in_week_nights'].rank(method='first').values, 3, duplicates='drop').codes+1\n",
    "sns.barplot(x='stays_in_week_nights_rank', y ='target', data=df, estimator=mean)\n",
    "print(df.groupby('stays_in_week_nights_rank')['target'].mean())"
   ]
  },
  {
   "cell_type": "code",
   "execution_count": 20,
   "id": "7e199341",
   "metadata": {},
   "outputs": [
    {
     "name": "stdout",
     "output_type": "stream",
     "text": [
      "The Minimum Values in the stays_in_week_nights_rank are :\n",
      "stays_in_week_nights_rank\n",
      "1    0\n",
      "2    2\n",
      "3    3\n",
      "Name: stays_in_week_nights, dtype: int64\n",
      "__________________________________________________\n",
      "The Maximum Values in stays_in_week_nights_rank are :\n",
      "stays_in_week_nights_rank\n",
      "1     2\n",
      "2     3\n",
      "3    50\n",
      "Name: stays_in_week_nights, dtype: int64\n"
     ]
    }
   ],
   "source": [
    "# Printing the class boundaries of the classes\n",
    "print('The Minimum Values in the stays_in_week_nights_rank are :')\n",
    "print(df.groupby('stays_in_week_nights_rank')['stays_in_week_nights'].min())\n",
    "print('_'*50)\n",
    "print('The Maximum Values in stays_in_week_nights_rank are :')\n",
    "print(df.groupby('stays_in_week_nights_rank')['stays_in_week_nights'].max())"
   ]
  },
  {
   "cell_type": "code",
   "execution_count": 21,
   "id": "20bff3da",
   "metadata": {},
   "outputs": [
    {
     "data": {
      "text/plain": [
       "<AxesSubplot:xlabel='previous_cancellations', ylabel='target'>"
      ]
     },
     "execution_count": 21,
     "metadata": {},
     "output_type": "execute_result"
    },
    {
     "data": {
      "image/png": "[encoded data removed]",
      "text/plain": [
       "<Figure size 432x288 with 1 Axes>"
      ]
     },
     "metadata": {
      "needs_background": "light"
     },
     "output_type": "display_data"
    }
   ],
   "source": [
    "# Checking the cancellation probabilities with respect to previous_cancellations\n",
    "sns.barplot(x='previous_cancellations', y ='target', data = df, estimator=mean)"
   ]
  },
  {
   "cell_type": "code",
   "execution_count": 23,
   "id": "7793fdf2",
   "metadata": {},
   "outputs": [
    {
     "data": {
      "image/png": "[encoded data removed]",
      "text/plain": [
       "<Figure size 432x288 with 1 Axes>"
      ]
     },
     "metadata": {
      "needs_background": "light"
     },
     "output_type": "display_data"
    },
    {
     "name": "stdout",
     "output_type": "stream",
     "text": [
      "prev_cancellation_ind\n",
      "0    0.339061\n",
      "1    0.916410\n",
      "Name: target, dtype: float64\n"
     ]
    }
   ],
   "source": [
    "# Creating a columns with 0 and 1, where 0 represents no prev cancellations\n",
    "# 1 represents prev cancellations.\n",
    "# and plotting the cancellation probabilities of each class\n",
    "df['prev_cancellation_ind']= np.where(df['previous_cancellations'].isin([0]),0,1)\n",
    "sns.barplot(x=df['prev_cancellation_ind'], y = df['target'], estimator=mean)\n",
    "plt.show()\n",
    "print(df.groupby('prev_cancellation_ind')['target'].mean())"
   ]
  },
  {
   "cell_type": "code",
   "execution_count": 24,
   "id": "0dd4bacb",
   "metadata": {},
   "outputs": [
    {
     "data": {
      "image/png": "[encoded data removed]",
      "text/plain": [
       "<Figure size 432x288 with 1 Axes>"
      ]
     },
     "metadata": {
      "needs_background": "light"
     },
     "output_type": "display_data"
    },
    {
     "name": "stdout",
     "output_type": "stream",
     "text": [
      "The distribution wise cancellation probabilities are as follows:-\n",
      "distribution_channel\n",
      "Corporate    0.219942\n",
      "Direct       0.174599\n",
      "TA/TO        0.410278\n",
      "Name: target, dtype: float64\n",
      " \n",
      "The counts of instances:- \n",
      "distribution_channel\n",
      "Corporate     6870\n",
      "Direct       14645\n",
      "TA/TO        97875\n",
      "Name: target, dtype: int64\n"
     ]
    }
   ],
   "source": [
    "# Replacing Undefined as TA/TO, GDS as Corporate\n",
    "df['distribution_channel'].replace('Undefined','TA/TO', inplace=True)\n",
    "df['distribution_channel'].replace('GDS','Corporate', inplace=True)\n",
    "\n",
    "# Plotting Cancellation probabilities for Distribution Channel\n",
    "sns.barplot(x=df['distribution_channel'], y = df['target'], estimator=mean)\n",
    "plt.show()\n",
    "print('The distribution wise cancellation probabilities are as follows:-')\n",
    "print(df.groupby('distribution_channel')['target'].mean()) #Printing Cancellation probabilites for distribution channel \n",
    "print(' ')\n",
    "print('The counts of instances:- ')\n",
    "print(df.groupby('distribution_channel')['target'].count()) #Printing the cancellations count for distribution channel"
   ]
  },
  {
   "cell_type": "code",
   "execution_count": 25,
   "id": "1f254a4e",
   "metadata": {},
   "outputs": [
    {
     "data": {
      "image/png": "[encoded data removed]",
      "text/plain": [
       "<Figure size 432x288 with 1 Axes>"
      ]
     },
     "metadata": {
      "needs_background": "light"
     },
     "output_type": "display_data"
    },
    {
     "name": "stdout",
     "output_type": "stream",
     "text": [
      "deposit_type\n",
      "Deposits      0.985152\n",
      "No Deposit    0.283770\n",
      "Name: target, dtype: float64\n",
      " \n",
      "deposit_type\n",
      "Deposits       14749\n",
      "No Deposit    104641\n",
      "Name: target, dtype: int64\n"
     ]
    }
   ],
   "source": [
    "# Plotting cancellation probabilities for deposit types\n",
    "sns.barplot(x=df['deposit_type'], y =df['target'], estimator=mean)\n",
    "plt.show()\n",
    "# Printing Cancellation probabilities for deposit type\n",
    "print(df.groupby('deposit_type')['target'].mean())\n",
    "print(' ')\n",
    "# Printing Cancellation Count for Deposit Type\n",
    "print(df.groupby('deposit_type')['target'].count())"
   ]
  },
  {
   "cell_type": "code",
   "execution_count": 26,
   "id": "d71be7b8",
   "metadata": {},
   "outputs": [
    {
     "data": {
      "image/png": "[encoded data removed]",
      "text/plain": [
       "<Figure size 432x288 with 1 Axes>"
      ]
     },
     "metadata": {
      "needs_background": "light"
     },
     "output_type": "display_data"
    },
    {
     "name": "stdout",
     "output_type": "stream",
     "text": [
      "customer_type\n",
      "Non-Transient      0.283903\n",
      "Transient          0.407463\n",
      "Transient-Party    0.254299\n",
      "Name: target, dtype: float64\n",
      " \n",
      "customer_type\n",
      "Non-Transient       4653\n",
      "Transient          89613\n",
      "Transient-Party    25124\n",
      "Name: target, dtype: int64\n"
     ]
    }
   ],
   "source": [
    "# replacing Contract as Non-Transient, Group as Non-Transient\n",
    "df['customer_type'].replace('Contract','Non-Transient', inplace=True)\n",
    "df['customer_type'].replace('Group','Non-Transient', inplace=True)\n",
    "# Plotting cancellation probabilities for customer_type\n",
    "sns.barplot(x=df['customer_type'], y =df['target'], estimator=mean)\n",
    "plt.show()\n",
    "# Printing Cancellation Probabilities for customer_type\n",
    "print(df.groupby('customer_type')['target'].mean())\n",
    "print(' ')\n",
    "# Printing cancellation count for customer_type\n",
    "print(df.groupby('customer_type')['target'].count())"
   ]
  },
  {
   "cell_type": "code",
   "execution_count": 27,
   "id": "369d7b4e",
   "metadata": {},
   "outputs": [
    {
     "data": {
      "text/plain": [
       "<AxesSubplot:xlabel='day_wait_rank', ylabel='target'>"
      ]
     },
     "execution_count": 27,
     "metadata": {},
     "output_type": "execute_result"
    },
    {
     "data": {
      "image/png": "[encoded data removed]",
      "text/plain": [
       "<Figure size 432x288 with 1 Axes>"
      ]
     },
     "metadata": {
      "needs_background": "light"
     },
     "output_type": "display_data"
    }
   ],
   "source": [
    "# Creating a new clolumn that classifies days_in_waiting_list into 3 distinct classes using pd.qcut\n",
    "# and checking the cancellation probabilites of those classes\n",
    "df['day_wait_rank']= pd.qcut(df['days_in_waiting_list'].rank(method='first').values,3,duplicates='drop').codes+1\n",
    "sns.barplot(x=df['day_wait_rank'], y = df['target'], estimator=mean)"
   ]
  },
  {
   "cell_type": "code",
   "execution_count": 56,
   "id": "e08eb339",
   "metadata": {},
   "outputs": [
    {
     "data": {
      "text/plain": [
       "day_wait_rank\n",
       "1    11105\n",
       "2    30654\n",
       "3     2465\n",
       "Name: target, dtype: int32"
      ]
     },
     "execution_count": 56,
     "metadata": {},
     "output_type": "execute_result"
    }
   ],
   "source": [
    "# Printing the cancellation counts in each classes\n",
    "df.groupby('day_wait_rank')['target'].sum()"
   ]
  },
  {
   "cell_type": "code",
   "execution_count": 29,
   "id": "10d44e99",
   "metadata": {},
   "outputs": [
    {
     "data": {
      "text/plain": [
       "<AxesSubplot:xlabel='day_wait_ind', ylabel='target'>"
      ]
     },
     "execution_count": 29,
     "metadata": {},
     "output_type": "execute_result"
    },
    {
     "data": {
      "image/png": "[encoded data removed]",
      "text/plain": [
       "<Figure size 432x288 with 1 Axes>"
      ]
     },
     "metadata": {
      "needs_background": "light"
     },
     "output_type": "display_data"
    }
   ],
   "source": [
    "df['day_wait_ind'] = np.where(df['day_wait_rank'].isin([3]),1,0)\n",
    "sns.barplot(x=df['day_wait_ind'], y = df['target'], estimator=mean)"
   ]
  },
  {
   "cell_type": "code",
   "execution_count": 30,
   "id": "a11665d1",
   "metadata": {},
   "outputs": [
    {
     "data": {
      "text/plain": [
       "day_wait_ind\n",
       "0    79593\n",
       "1    39797\n",
       "Name: target, dtype: int64"
      ]
     },
     "execution_count": 30,
     "metadata": {},
     "output_type": "execute_result"
    }
   ],
   "source": [
    "# Printing the cancellation count\n",
    "df.groupby('day_wait_ind')['target'].count()"
   ]
  },
  {
   "cell_type": "code",
   "execution_count": 31,
   "id": "9f084399",
   "metadata": {},
   "outputs": [
    {
     "data": {
      "text/plain": [
       "No requests    70318\n",
       "Upto 2         46195\n",
       "More than 2     2877\n",
       "Name: total_of_special_requests, dtype: int64"
      ]
     },
     "execution_count": 31,
     "metadata": {},
     "output_type": "execute_result"
    }
   ],
   "source": [
    "# Replacing 3,4 and 5 as 'More than 2' and 1 and 2 as 'Upto 2' and 0 as 'No requests' in total_of_special_requests to create new classes.\n",
    "df['total_of_special_requests'].replace({3:'More than 2',4:'More than 2',5:'More than 2',\n",
    "                                        0:'No requests',1:'Upto 2',2:'Upto 2'}, inplace=True)\n",
    "# Checking the value counts of each class in total_of_special_requests\n",
    "df['total_of_special_requests'].value_counts()"
   ]
  },
  {
   "cell_type": "code",
   "execution_count": 32,
   "id": "53d9f0bd",
   "metadata": {},
   "outputs": [
    {
     "data": {
      "text/plain": [
       "<AxesSubplot:xlabel='total_of_special_requests', ylabel='target'>"
      ]
     },
     "execution_count": 32,
     "metadata": {},
     "output_type": "execute_result"
    },
    {
     "data": {
      "image/png": "[encoded data removed]",
      "text/plain": [
       "<Figure size 432x288 with 1 Axes>"
      ]
     },
     "metadata": {
      "needs_background": "light"
     },
     "output_type": "display_data"
    }
   ],
   "source": [
    "# Plotting the cancellation Probabilites for total_of_special_requests\n",
    "sns.barplot(x=df['total_of_special_requests'], y = df['target'], estimator=mean)"
   ]
  },
  {
   "cell_type": "code",
   "execution_count": 33,
   "id": "17f5579a",
   "metadata": {},
   "outputs": [
    {
     "data": {
      "text/plain": [
       "total_of_special_requests\n",
       "More than 2    0.168231\n",
       "No requests    0.477204\n",
       "Upto 2         0.220457\n",
       "Name: target, dtype: float64"
      ]
     },
     "execution_count": 33,
     "metadata": {},
     "output_type": "execute_result"
    }
   ],
   "source": [
    "# Printing the cancellation probabilities for total_of_special_requests\n",
    "df.groupby('total_of_special_requests')['target'].mean()"
   ]
  },
  {
   "cell_type": "code",
   "execution_count": 34,
   "id": "31246597",
   "metadata": {},
   "outputs": [
    {
     "data": {
      "text/plain": [
       "<AxesSubplot:xlabel='adr_rank', ylabel='target'>"
      ]
     },
     "execution_count": 34,
     "metadata": {},
     "output_type": "execute_result"
    },
    {
     "data": {
      "image/png": "[encoded data removed]",
      "text/plain": [
       "<Figure size 432x288 with 1 Axes>"
      ]
     },
     "metadata": {
      "needs_background": "light"
     },
     "output_type": "display_data"
    }
   ],
   "source": [
    "# Cleating a new column where adr is classified into 5 classes and plotting the cancellation probabilities for each class.\n",
    "df['adr_rank'] = pd.qcut(df['adr'].rank(method='first').values,5, duplicates='drop').codes+1\n",
    "sns.barplot(x=df['adr_rank'], y =df['target'], estimator=mean)"
   ]
  },
  {
   "cell_type": "code",
   "execution_count": 35,
   "id": "939ed3b9",
   "metadata": {},
   "outputs": [
    {
     "data": {
      "text/plain": [
       "<AxesSubplot:xlabel='lead_time_rank', ylabel='target'>"
      ]
     },
     "execution_count": 35,
     "metadata": {},
     "output_type": "execute_result"
    },
    {
     "data": {
      "image/png": "[encoded data removed]",
      "text/plain": [
       "<Figure size 432x288 with 1 Axes>"
      ]
     },
     "metadata": {
      "needs_background": "light"
     },
     "output_type": "display_data"
    }
   ],
   "source": [
    "# Creating a new column where lead time is classified into 10 distict classes and plotting the cancellation probabilities of each class\n",
    "df['lead_time_rank'] = pd.qcut(df['lead_time'].rank(method='first').values,10,duplicates='drop').codes+1\n",
    "sns.barplot(x=df['lead_time_rank'], y = df['target'], estimator=mean)"
   ]
  },
  {
   "cell_type": "code",
   "execution_count": 36,
   "id": "5bed2f25",
   "metadata": {},
   "outputs": [
    {
     "data": {
      "text/plain": [
       "lead_time_rank\n",
       "1      986\n",
       "2     1801\n",
       "3     3361\n",
       "4     4280\n",
       "5     4558\n",
       "6     4862\n",
       "7     5170\n",
       "8     5544\n",
       "9     5668\n",
       "10    7994\n",
       "Name: target, dtype: int32"
      ]
     },
     "execution_count": 36,
     "metadata": {},
     "output_type": "execute_result"
    }
   ],
   "source": [
    "df.groupby('lead_time_rank')['target'].sum()"
   ]
  },
  {
   "cell_type": "code",
   "execution_count": 37,
   "id": "b125c212",
   "metadata": {},
   "outputs": [
    {
     "data": {
      "text/plain": [
       "Index(['hotel', 'is_canceled', 'lead_time', 'arrival_date_year',\n",
       "       'arrival_date_month', 'arrival_date_week_number',\n",
       "       'arrival_date_day_of_month', 'stays_in_weekend_nights',\n",
       "       'stays_in_week_nights', 'adults', 'children', 'babies', 'meal',\n",
       "       'country', 'market_segment', 'distribution_channel',\n",
       "       'is_repeated_guest', 'previous_cancellations',\n",
       "       'previous_bookings_not_canceled', 'reserved_room_type',\n",
       "       'assigned_room_type', 'booking_changes', 'deposit_type', 'agent',\n",
       "       'company', 'days_in_waiting_list', 'customer_type', 'adr',\n",
       "       'required_car_parking_spaces', 'total_of_special_requests',\n",
       "       'reservation_status', 'reservation_status_date', 'target',\n",
       "       'stays_in_week_nights_rank', 'prev_cancellation_ind', 'day_wait_rank',\n",
       "       'day_wait_ind', 'adr_rank', 'lead_time_rank'],\n",
       "      dtype='object')"
      ]
     },
     "execution_count": 37,
     "metadata": {},
     "output_type": "execute_result"
    }
   ],
   "source": [
    "df.columns"
   ]
  },
  {
   "cell_type": "code",
   "execution_count": 38,
   "id": "b3a2875f",
   "metadata": {},
   "outputs": [],
   "source": [
    "# Defining the dependent variable\n",
    "dep = ['target']\n",
    "# Defining the numerical column that will be used in ML Classification Model\n",
    "col_num = ['lead_time', 'adr']\n",
    "# Defining the categorical columns that will be used in ML Classification Model\n",
    "col_char=['day_wait_ind','total_of_special_requests','customer_type', 'reserved_room_type','distribution_channel',\n",
    "          'market_segment','prev_cancellation_ind','stays_in_week_nights_rank','deposit_type']"
   ]
  },
  {
   "cell_type": "code",
   "execution_count": 39,
   "id": "a5ca24e1",
   "metadata": {},
   "outputs": [],
   "source": [
    "# Creating the dummy variables for categorical columns\n",
    "X_char_dum = pd.get_dummies(df[col_char], drop_first=True)"
   ]
  },
  {
   "cell_type": "code",
   "execution_count": 40,
   "id": "e8bb8adf",
   "metadata": {},
   "outputs": [],
   "source": [
    "# Concatenating Categorical and Numerical columns to be Used as X\n",
    "X_all=pd.concat([df[col_num],X_char_dum], axis=1, join='inner')\n",
    "X_var=X_all\n",
    "# Using target as Y\n",
    "Y_var=df['target']"
   ]
  },
  {
   "cell_type": "code",
   "execution_count": 41,
   "id": "d0f3f6c2",
   "metadata": {},
   "outputs": [],
   "source": [
    "# Importing Machine Learning libraries.\n",
    "from sklearn.linear_model import LogisticRegression\n",
    "from sklearn.ensemble import RandomForestClassifier\n",
    "from sklearn.tree import DecisionTreeClassifier\n",
    "from sklearn import metrics\n",
    "from sklearn.model_selection import train_test_split"
   ]
  },
  {
   "cell_type": "code",
   "execution_count": 42,
   "id": "067907e9",
   "metadata": {},
   "outputs": [
    {
     "data": {
      "text/plain": [
       "RandomForestClassifier(max_depth=7, n_estimators=1000, random_state=2)"
      ]
     },
     "execution_count": 42,
     "metadata": {},
     "output_type": "execute_result"
    }
   ],
   "source": [
    "# Splitting the data into train-test\n",
    "X_train, X_test, y_train, y_test = train_test_split(X_var, Y_var, test_size=.25, random_state=0)\n",
    "# Initiating the Logistic regression class\n",
    "log_reg = LogisticRegression()\n",
    "log_reg.fit(X_train, y_train)\n",
    "# Initiating the Decision tree class\n",
    "dtree = DecisionTreeClassifier(criterion='gini', random_state=0, max_depth=7, min_samples_leaf=10)\n",
    "dtree.fit(X_train, y_train)\n",
    "# Initiating the RandomForest Class\n",
    "rf_1000 = RandomForestClassifier(n_estimators=1000,\n",
    "                                random_state=2,\n",
    "                                criterion='gini',\n",
    "                                max_features='auto',\n",
    "                                max_depth=7)\n",
    "rf_1000.fit(X_train,y_train)"
   ]
  },
  {
   "cell_type": "code",
   "execution_count": 43,
   "id": "bad86e5b",
   "metadata": {},
   "outputs": [
    {
     "name": "stdout",
     "output_type": "stream",
     "text": [
      "Accuracy of Logistic Regression on Test Set is : 0.84\n"
     ]
    }
   ],
   "source": [
    "# Evaluating the Accuracy for Linear Regression\n",
    "y_pred = log_reg.predict(X_test)\n",
    "print('Accuracy of Logistic Regression on Test Set is : {:.2f}'.format(log_reg.score(X_test, y_test)))"
   ]
  },
  {
   "cell_type": "code",
   "execution_count": 44,
   "id": "fd4c9899",
   "metadata": {},
   "outputs": [
    {
     "name": "stdout",
     "output_type": "stream",
     "text": [
      "Accuracy of Decision Tree on Test Data is : 0.86\n"
     ]
    }
   ],
   "source": [
    "# Evaluating the Accuracy for DecisionTree\n",
    "y_pred_tree = dtree.predict(X_test)\n",
    "print('Accuracy of Decision Tree on Test Data is : {:.2f}'.format(dtree.score(X_test,y_test)))"
   ]
  },
  {
   "cell_type": "code",
   "execution_count": 45,
   "id": "81a19e92",
   "metadata": {},
   "outputs": [
    {
     "name": "stdout",
     "output_type": "stream",
     "text": [
      "Accuracy of Random Forest on Test Data is : 0.86\n"
     ]
    }
   ],
   "source": [
    "# Evaluating the Accuracy for RandomForest\n",
    "y_pred_forest = rf_1000.predict(X_test)\n",
    "print('Accuracy of Random Forest on Test Data is : {:.2f}'.format(rf_1000.score(X_test,y_test)))"
   ]
  },
  {
   "cell_type": "code",
   "execution_count": 46,
   "id": "6f36d684",
   "metadata": {},
   "outputs": [
    {
     "name": "stdout",
     "output_type": "stream",
     "text": [
      "[[16450  2182]\n",
      " [ 2715  8501]]\n"
     ]
    }
   ],
   "source": [
    "# Importing confusion_matrix and classification_report\n",
    "from sklearn.metrics import confusion_matrix, classification_report\n",
    "# Calculating confusion_matrix for y_test and y_pred\n",
    "confusion_matrix = confusion_matrix(y_test, y_pred)\n",
    "print(confusion_matrix)"
   ]
  },
  {
   "cell_type": "code",
   "execution_count": 47,
   "id": "e5d32124",
   "metadata": {},
   "outputs": [
    {
     "name": "stdout",
     "output_type": "stream",
     "text": [
      "              precision    recall  f1-score   support\n",
      "\n",
      "           0       0.87      0.91      0.89     18632\n",
      "           1       0.84      0.78      0.81     11216\n",
      "\n",
      "    accuracy                           0.86     29848\n",
      "   macro avg       0.86      0.84      0.85     29848\n",
      "weighted avg       0.86      0.86      0.86     29848\n",
      "\n"
     ]
    }
   ],
   "source": [
    "# Calculating the classification report for decision tree\n",
    "dtree_cls_rpt = classification_report(y_test, y_pred_tree)\n",
    "print(dtree_cls_rpt)"
   ]
  },
  {
   "cell_type": "code",
   "execution_count": 48,
   "id": "cc12f368",
   "metadata": {},
   "outputs": [
    {
     "name": "stdout",
     "output_type": "stream",
     "text": [
      "              precision    recall  f1-score   support\n",
      "\n",
      "           0       0.86      0.94      0.90     18632\n",
      "           1       0.88      0.74      0.80     11216\n",
      "\n",
      "    accuracy                           0.86     29848\n",
      "   macro avg       0.87      0.84      0.85     29848\n",
      "weighted avg       0.87      0.86      0.86     29848\n",
      "\n"
     ]
    }
   ],
   "source": [
    "# Printing the classification report for RandomForest\n",
    "rf_cls_rpt = classification_report(y_test, y_pred_forest)\n",
    "print(rf_cls_rpt)"
   ]
  },
  {
   "cell_type": "code",
   "execution_count": 49,
   "id": "e2a51c33",
   "metadata": {},
   "outputs": [
    {
     "data": {
      "image/png": "[encoded data removed]",
      "text/plain": [
       "<Figure size 432x288 with 1 Axes>"
      ]
     },
     "metadata": {
      "needs_background": "light"
     },
     "output_type": "display_data"
    }
   ],
   "source": [
    "# Importing roc_auc_score androc_curve\n",
    "from sklearn.metrics import roc_auc_score, roc_curve\n",
    "\n",
    "logit_roc_auc = roc_auc_score(y_test, log_reg.predict(X_test)) # roc_auc_score for logistic regression\n",
    "tree_roc_auc = roc_auc_score(y_test, dtree.predict(X_test)) # roc_auc_score for DecisionTree\n",
    "rf_roc_auc = roc_auc_score(y_test, rf_1000.predict(X_test)) # roc_auc_score for RandomForest\n",
    "\n",
    "fpr, tpr, thresholds = roc_curve(y_test, log_reg.predict_proba(X_test)[:,1]) #roc_curve for logistic regression\n",
    "fpr, tpr, thresholds = roc_curve(y_test, dtree.predict_proba(X_test)[:,1]) #roc_curve for DecisionTree\n",
    "fpr, tpr, thresholds = roc_curve(y_test, rf_1000.predict_proba(X_test)[:,1]) # roc_curve for RandomFOrest\n",
    "# Plotting the roc_curve for Logistic Regression, DecisionTree and RandomForest\n",
    "plt.figure()\n",
    "plt.plot(fpr,tpr, label='Logistic Regression(area = %0.2f)' %logit_roc_auc)\n",
    "plt.plot(fpr,tpr, label='Decesion Tree(area = %0.2f)'%tree_roc_auc)\n",
    "plt.plot(fpr, tpr, label='Random Forest(area = %0.2f)'%rf_roc_auc)\n",
    "plt.plot([0,1],[0,1],'r--')\n",
    "plt.xlim(0.0,1.0)\n",
    "plt.ylim(0.0, 1.05)\n",
    "plt.xlabel('False Positive Rate')\n",
    "plt.ylabel('True Positive Rate')\n",
    "plt.legend(loc='lower right')\n",
    "plt.show()"
   ]
  },
  {
   "cell_type": "code",
   "execution_count": 50,
   "id": "b4a17288",
   "metadata": {},
   "outputs": [
    {
     "data": {
      "text/plain": [
       "P_rank\n",
       "1     0.012229\n",
       "2     0.010051\n",
       "3     0.011391\n",
       "4     0.132926\n",
       "5     0.222883\n",
       "6     0.287880\n",
       "7     0.511517\n",
       "8     0.650054\n",
       "9     0.869085\n",
       "10    0.996147\n",
       "Name: target, dtype: float64"
      ]
     },
     "execution_count": 50,
     "metadata": {},
     "output_type": "execute_result"
    }
   ],
   "source": [
    "# Saving the logistic regression predict probabilites and dividing into 10 distict classes and calculating mean\n",
    "y_pred_prob = log_reg.predict_proba(X_var)[:,1]\n",
    "df['y_pred_P']= pd.DataFrame(y_pred_prob)\n",
    "df['P_rank']= pd.qcut(df['y_pred_P'].rank(method='first').values,10, duplicates='drop').codes+1\n",
    "df.groupby('P_rank')['target'].mean()"
   ]
  },
  {
   "cell_type": "code",
   "execution_count": 51,
   "id": "9fe4117e",
   "metadata": {},
   "outputs": [
    {
     "data": {
      "text/plain": [
       "P_rank_tree\n",
       "1     0.001340\n",
       "2     0.000084\n",
       "3     0.008292\n",
       "4     0.089371\n",
       "5     0.186364\n",
       "6     0.302957\n",
       "7     0.502220\n",
       "8     0.639166\n",
       "9     0.974370\n",
       "10    1.000000\n",
       "Name: target, dtype: float64"
      ]
     },
     "execution_count": 51,
     "metadata": {},
     "output_type": "execute_result"
    }
   ],
   "source": [
    "# Saving the decisionTree predict probabilites and dividing into 10 distict classes and calculating mean\n",
    "y_pred_prob_tree = dtree.predict_proba(X_var)[:,1]\n",
    "df['y_pred_P_tree'] = pd.DataFrame(y_pred_prob_tree)\n",
    "df['P_rank_tree']= pd.qcut(df['y_pred_P_tree'].rank(method='first').values,10,duplicates='drop').codes+1\n",
    "df.groupby('P_rank_tree')['target'].mean()"
   ]
  },
  {
   "cell_type": "code",
   "execution_count": 52,
   "id": "c71f5af1",
   "metadata": {},
   "outputs": [
    {
     "data": {
      "text/plain": [
       "P_rank_rf\n",
       "1     0.002764\n",
       "2     0.000754\n",
       "3     0.017589\n",
       "4     0.075551\n",
       "5     0.177569\n",
       "6     0.307228\n",
       "7     0.460759\n",
       "8     0.723176\n",
       "9     0.938772\n",
       "10    1.000000\n",
       "Name: target, dtype: float64"
      ]
     },
     "execution_count": 52,
     "metadata": {},
     "output_type": "execute_result"
    }
   ],
   "source": [
    "# Saving the RandomForest predict probabilites and dividing into 10 distict classes and calculating mean\n",
    "y_pred_prob_rf = rf_1000.predict_proba(X_var)[:,1]\n",
    "df['y_pred_P_rf'] = pd.DataFrame(y_pred_prob_rf)\n",
    "df['P_rank_rf']= pd.qcut(df['y_pred_P_rf'].rank(method='first').values,10,duplicates='drop').codes+1\n",
    "df.groupby('P_rank_rf')['target'].mean()"
   ]
  },
  {
   "cell_type": "code",
   "execution_count": 53,
   "id": "47dff085",
   "metadata": {},
   "outputs": [
    {
     "data": {
      "text/html": [
       "<div>\n",
       "<style scoped>\n",
       "    .dataframe tbody tr th:only-of-type {\n",
       "        vertical-align: middle;\n",
       "    }\n",
       "\n",
       "    .dataframe tbody tr th {\n",
       "        vertical-align: top;\n",
       "    }\n",
       "\n",
       "    .dataframe thead th {\n",
       "        text-align: right;\n",
       "    }\n",
       "</style>\n",
       "<table border=\"1\" class=\"dataframe\">\n",
       "  <thead>\n",
       "    <tr style=\"text-align: right;\">\n",
       "      <th></th>\n",
       "      <th>hotel</th>\n",
       "      <th>is_canceled</th>\n",
       "      <th>lead_time</th>\n",
       "      <th>arrival_date_year</th>\n",
       "      <th>arrival_date_month</th>\n",
       "      <th>arrival_date_week_number</th>\n",
       "      <th>arrival_date_day_of_month</th>\n",
       "      <th>stays_in_weekend_nights</th>\n",
       "      <th>stays_in_week_nights</th>\n",
       "      <th>adults</th>\n",
       "      <th>...</th>\n",
       "      <th>day_wait_rank</th>\n",
       "      <th>day_wait_ind</th>\n",
       "      <th>adr_rank</th>\n",
       "      <th>lead_time_rank</th>\n",
       "      <th>y_pred_P</th>\n",
       "      <th>P_rank</th>\n",
       "      <th>y_pred_P_tree</th>\n",
       "      <th>P_rank_tree</th>\n",
       "      <th>y_pred_P_rf</th>\n",
       "      <th>P_rank_rf</th>\n",
       "    </tr>\n",
       "  </thead>\n",
       "  <tbody>\n",
       "    <tr>\n",
       "      <th>0</th>\n",
       "      <td>Resort Hotel</td>\n",
       "      <td>0</td>\n",
       "      <td>342</td>\n",
       "      <td>2015</td>\n",
       "      <td>July</td>\n",
       "      <td>27</td>\n",
       "      <td>1</td>\n",
       "      <td>0</td>\n",
       "      <td>0</td>\n",
       "      <td>2</td>\n",
       "      <td>...</td>\n",
       "      <td>1</td>\n",
       "      <td>0</td>\n",
       "      <td>1</td>\n",
       "      <td>10</td>\n",
       "      <td>0.286897</td>\n",
       "      <td>5</td>\n",
       "      <td>0.153939</td>\n",
       "      <td>4</td>\n",
       "      <td>0.323381</td>\n",
       "      <td>6</td>\n",
       "    </tr>\n",
       "    <tr>\n",
       "      <th>1</th>\n",
       "      <td>Resort Hotel</td>\n",
       "      <td>0</td>\n",
       "      <td>737</td>\n",
       "      <td>2015</td>\n",
       "      <td>July</td>\n",
       "      <td>27</td>\n",
       "      <td>1</td>\n",
       "      <td>0</td>\n",
       "      <td>0</td>\n",
       "      <td>2</td>\n",
       "      <td>...</td>\n",
       "      <td>1</td>\n",
       "      <td>0</td>\n",
       "      <td>1</td>\n",
       "      <td>10</td>\n",
       "      <td>0.731722</td>\n",
       "      <td>8</td>\n",
       "      <td>0.153939</td>\n",
       "      <td>4</td>\n",
       "      <td>0.321971</td>\n",
       "      <td>6</td>\n",
       "    </tr>\n",
       "    <tr>\n",
       "      <th>2</th>\n",
       "      <td>Resort Hotel</td>\n",
       "      <td>0</td>\n",
       "      <td>7</td>\n",
       "      <td>2015</td>\n",
       "      <td>July</td>\n",
       "      <td>27</td>\n",
       "      <td>1</td>\n",
       "      <td>0</td>\n",
       "      <td>1</td>\n",
       "      <td>1</td>\n",
       "      <td>...</td>\n",
       "      <td>1</td>\n",
       "      <td>0</td>\n",
       "      <td>2</td>\n",
       "      <td>2</td>\n",
       "      <td>0.157621</td>\n",
       "      <td>5</td>\n",
       "      <td>0.202147</td>\n",
       "      <td>5</td>\n",
       "      <td>0.157776</td>\n",
       "      <td>4</td>\n",
       "    </tr>\n",
       "    <tr>\n",
       "      <th>3</th>\n",
       "      <td>Resort Hotel</td>\n",
       "      <td>0</td>\n",
       "      <td>13</td>\n",
       "      <td>2015</td>\n",
       "      <td>July</td>\n",
       "      <td>27</td>\n",
       "      <td>1</td>\n",
       "      <td>0</td>\n",
       "      <td>1</td>\n",
       "      <td>1</td>\n",
       "      <td>...</td>\n",
       "      <td>1</td>\n",
       "      <td>0</td>\n",
       "      <td>2</td>\n",
       "      <td>3</td>\n",
       "      <td>0.191576</td>\n",
       "      <td>5</td>\n",
       "      <td>0.202147</td>\n",
       "      <td>5</td>\n",
       "      <td>0.268457</td>\n",
       "      <td>5</td>\n",
       "    </tr>\n",
       "    <tr>\n",
       "      <th>4</th>\n",
       "      <td>Resort Hotel</td>\n",
       "      <td>0</td>\n",
       "      <td>14</td>\n",
       "      <td>2015</td>\n",
       "      <td>July</td>\n",
       "      <td>27</td>\n",
       "      <td>1</td>\n",
       "      <td>0</td>\n",
       "      <td>2</td>\n",
       "      <td>2</td>\n",
       "      <td>...</td>\n",
       "      <td>1</td>\n",
       "      <td>0</td>\n",
       "      <td>3</td>\n",
       "      <td>3</td>\n",
       "      <td>0.417259</td>\n",
       "      <td>6</td>\n",
       "      <td>0.625411</td>\n",
       "      <td>7</td>\n",
       "      <td>0.399626</td>\n",
       "      <td>7</td>\n",
       "    </tr>\n",
       "  </tbody>\n",
       "</table>\n",
       "<p>5 rows × 45 columns</p>\n",
       "</div>"
      ],
      "text/plain": [
       "          hotel  is_canceled  lead_time  arrival_date_year arrival_date_month  \\\n",
       "0  Resort Hotel            0        342               2015               July   \n",
       "1  Resort Hotel            0        737               2015               July   \n",
       "2  Resort Hotel            0          7               2015               July   \n",
       "3  Resort Hotel            0         13               2015               July   \n",
       "4  Resort Hotel            0         14               2015               July   \n",
       "\n",
       "   arrival_date_week_number  arrival_date_day_of_month  \\\n",
       "0                        27                          1   \n",
       "1                        27                          1   \n",
       "2                        27                          1   \n",
       "3                        27                          1   \n",
       "4                        27                          1   \n",
       "\n",
       "   stays_in_weekend_nights  stays_in_week_nights  adults  ...  day_wait_rank  \\\n",
       "0                        0                     0       2  ...              1   \n",
       "1                        0                     0       2  ...              1   \n",
       "2                        0                     1       1  ...              1   \n",
       "3                        0                     1       1  ...              1   \n",
       "4                        0                     2       2  ...              1   \n",
       "\n",
       "   day_wait_ind adr_rank lead_time_rank  y_pred_P P_rank  y_pred_P_tree  \\\n",
       "0             0        1             10  0.286897      5       0.153939   \n",
       "1             0        1             10  0.731722      8       0.153939   \n",
       "2             0        2              2  0.157621      5       0.202147   \n",
       "3             0        2              3  0.191576      5       0.202147   \n",
       "4             0        3              3  0.417259      6       0.625411   \n",
       "\n",
       "   P_rank_tree  y_pred_P_rf P_rank_rf  \n",
       "0            4     0.323381         6  \n",
       "1            4     0.321971         6  \n",
       "2            5     0.157776         4  \n",
       "3            5     0.268457         5  \n",
       "4            7     0.399626         7  \n",
       "\n",
       "[5 rows x 45 columns]"
      ]
     },
     "execution_count": 53,
     "metadata": {},
     "output_type": "execute_result"
    }
   ],
   "source": [
    "df.head()"
   ]
  },
  {
   "cell_type": "code",
   "execution_count": 54,
   "id": "881a3b89",
   "metadata": {},
   "outputs": [],
   "source": [
    "# df.to_csv('hotel_demand_prediction_scored_file.csv')"
   ]
  },
  {
   "cell_type": "code",
   "execution_count": null,
   "id": "8a104501",
   "metadata": {},
   "outputs": [],
   "source": []
  }
 ],
 "metadata": {
  "kernelspec": {
   "display_name": "Python 3",
   "language": "python",
   "name": "python3"
  },
  "language_info": {
   "codemirror_mode": {
    "name": "ipython",
    "version": 3
   },
   "file_extension": ".py",
   "mimetype": "text/x-python",
   "name": "python",
   "nbconvert_exporter": "python",
   "pygments_lexer": "ipython3",
   "version": "3.8.8"
  }
 },
 "nbformat": 4,
 "nbformat_minor": 5
}
